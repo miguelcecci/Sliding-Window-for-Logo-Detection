{
 "cells": [
  {
   "cell_type": "markdown",
   "metadata": {},
   "source": [
    "# Aplicando Sliding Window\n",
    "\n",
    "O desafio passado tem como imagens de teste prints de paginas web, acredito que em uma situação real, o problema seria abordado de maneira diferente, de forma que um algoritmo de scrapping seja responsável por salvar todas as imagens da pagina, para entao fazer a classificação. Como esse nao é o caso, precisamos usar um algoritmo para varrer a imagem e procurar os logos."
   ]
  },
  {
   "cell_type": "code",
   "execution_count": 1,
   "metadata": {},
   "outputs": [],
   "source": [
    "import tensorflow as tf\n",
    "import numpy as np\n",
    "import matplotlib.pyplot as plt\n",
    "import cv2 as cv\n",
    "import random\n",
    "%matplotlib inline"
   ]
  },
  {
   "cell_type": "code",
   "execution_count": 2,
   "metadata": {},
   "outputs": [],
   "source": [
    "def sliding_window(img, kernel_size):\n",
    "    width = img.shape[1]-kernel_size\n",
    "    height = img.shape[0]-kernel_size\n",
    "    i=0\n",
    "    imlist = []\n",
    "    while i < height:\n",
    "        j=0\n",
    "        while j < width:\n",
    "            imlist.append(img[i:i+kernel_size, j:j+kernel_size])\n",
    "            j += int(kernel_size/2)\n",
    "        i += int(kernel_size/2)\n",
    "    print(\"Image slided, \"+str(len(imlist))+\" chunkies generated.\")\n",
    "    return np.array(imlist)"
   ]
  },
  {
   "cell_type": "code",
   "execution_count": 3,
   "metadata": {},
   "outputs": [],
   "source": [
    "def onehot_to_label(onehot):\n",
    "    classes = ['IPIRANGA', 'MAGAZINE', 'DOTZ', 'ORIGINAL', 'NENHUM']\n",
    "    return classes[np.argmax(onehot)]    "
   ]
  },
  {
   "cell_type": "code",
   "execution_count": 4,
   "metadata": {},
   "outputs": [],
   "source": [
    "def verify_logo(onehot):\n",
    "    if np.argmax(onehot) == 4:\n",
    "        return False\n",
    "    return True"
   ]
  },
  {
   "cell_type": "code",
   "execution_count": 5,
   "metadata": {},
   "outputs": [],
   "source": [
    "def run_model(data):\n",
    "    with tf.Session() as sess:  \n",
    "        print(\"Loading model...\")\n",
    "        saver = tf.train.import_meta_graph('./modelo.ckpt.meta')\n",
    "        saver.restore(sess,tf.train.latest_checkpoint('./'))\n",
    "        graph = tf.get_default_graph()\n",
    "        x = graph.get_tensor_by_name(\"input:0\")\n",
    "        feed={x:data}\n",
    "        op_to_restore = tf.nn.softmax(graph.get_tensor_by_name('fc8/Sigmoid:0'))\n",
    "        print(\"Running Model...\")\n",
    "        result = sess.run(op_to_restore, feed_dict=feed)\n",
    "        print(\"Success.\")\n",
    "    return result"
   ]
  },
  {
   "cell_type": "code",
   "execution_count": 6,
   "metadata": {},
   "outputs": [],
   "source": [
    "def get_logo_chunkies(img_list, onehot):\n",
    "    imgs = []\n",
    "    classes = []\n",
    "    for i in range(len(onehot)):\n",
    "        if verify_logo(onehot[i]):\n",
    "            imgs.append(img_list[i])\n",
    "            classes.append(onehot_to_label(onehot[i]))\n",
    "    print('detected '+str(len(imgs))+' chunks with logos, from classes '+str(classes))\n",
    "    return imgs, classes"
   ]
  },
  {
   "cell_type": "code",
   "execution_count": 7,
   "metadata": {},
   "outputs": [],
   "source": [
    "#### Fonte dessa func https://gist.github.com/soply/f3eec2e79c165e39c9d540e916142ae1\n",
    "\n",
    "def show_images(images, cols = 1, titles = None):\n",
    "    \"\"\"Display a list of images in a single figure with matplotlib.\n",
    "    \n",
    "    Parameters\n",
    "    ---------\n",
    "    images: List of np.arrays compatible with plt.imshow.\n",
    "    \n",
    "    cols (Default = 1): Number of columns in figure (number of rows is \n",
    "                        set to np.ceil(n_images/float(cols))).\n",
    "    \n",
    "    titles: List of titles corresponding to each image. Must have\n",
    "            the same length as titles.\n",
    "    \"\"\"\n",
    "    assert((titles is None)or (len(images) == len(titles)))\n",
    "    n_images = len(images)\n",
    "    if titles is None: titles = ['Image (%d)' % i for i in range(1,n_images + 1)]\n",
    "    fig = plt.figure()\n",
    "    for n, (image, title) in enumerate(zip(images, titles)):\n",
    "        a = fig.add_subplot(cols, np.ceil(n_images/float(cols)), n + 1)\n",
    "        if image.ndim == 2:\n",
    "            plt.gray()\n",
    "        plt.imshow(image)\n",
    "        a.set_title(title)\n",
    "    fig.set_size_inches(np.array(fig.get_size_inches()) * n_images)\n",
    "    plt.show()"
   ]
  },
  {
   "cell_type": "code",
   "execution_count": 8,
   "metadata": {},
   "outputs": [],
   "source": [
    "def apply_full_proccess(img):\n",
    "    slided = sliding_window(img, 100)\n",
    "    results = run_model(slided)\n",
    "    imgs, classes = get_logo_chunkies(slided, results)\n",
    "    show_images(imgs, cols=4, titles=classes)"
   ]
  },
  {
   "cell_type": "markdown",
   "metadata": {},
   "source": [
    "# Testando"
   ]
  },
  {
   "cell_type": "markdown",
   "metadata": {},
   "source": [
    "Primeiramente carregaremos a imagem, em seguida, executaremos o modelo com sliding window nela, e serao plotados os logos detectados na imagem"
   ]
  },
  {
   "cell_type": "code",
   "execution_count": 14,
   "metadata": {},
   "outputs": [
    {
     "data": {
      "text/plain": [
       "<matplotlib.image.AxesImage at 0x7f66d6a0bba8>"
      ]
     },
     "execution_count": 14,
     "metadata": {},
     "output_type": "execute_result"
    },
    {
     "data": {
      "image/png": "[encoded data removed]",
      "text/plain": [
       "<Figure size 432x288 with 1 Axes>"
      ]
     },
     "metadata": {
      "needs_background": "light"
     },
     "output_type": "display_data"
    }
   ],
   "source": [
    "test_img = cv.imread(\"/home/miguel/Desktop/axurChallange/data/Samples/S_8.png\")\n",
    "test_img = cv.resize(test_img, (int(test_img.shape[1]/2), int(test_img.shape[0]/2)))\n",
    "plt.imshow(test_img)"
   ]
  },
  {
   "cell_type": "code",
   "execution_count": 11,
   "metadata": {},
   "outputs": [
    {
     "name": "stdout",
     "output_type": "stream",
     "text": [
      "Image slided, 40 chunkies generated.\n",
      "Loading model...\n",
      "INFO:tensorflow:Restoring parameters from ./modelo.ckpt\n",
      "Running Model...\n",
      "Success.\n",
      "detected 2 chunks with logos, from classes ['DOTZ', 'DOTZ']\n"
     ]
    },
    {
     "data": {
      "image/png": "[encoded data removed]",
      "text/plain": [
       "<Figure size 864x576 with 2 Axes>"
      ]
     },
     "metadata": {
      "needs_background": "light"
     },
     "output_type": "display_data"
    }
   ],
   "source": [
    "apply_full_proccess(test_img)"
   ]
  },
  {
   "cell_type": "markdown",
   "metadata": {},
   "source": [
    "# Como melhorar a performance do método\n",
    "\n",
    "Todo falso positivo apontado pela rede, pode ser salvo para aumentar o tamanho do dataset, e retreinar a rede."
   ]
  }
 ],
 "metadata": {
  "kernelspec": {
   "display_name": "Python 3",
   "language": "python",
   "name": "python3"
  },
  "language_info": {
   "codemirror_mode": {
    "name": "ipython",
    "version": 3
   },
   "file_extension": ".py",
   "mimetype": "text/x-python",
   "name": "python",
   "nbconvert_exporter": "python",
   "pygments_lexer": "ipython3",
   "version": "3.6.7"
  }
 },
 "nbformat": 4,
 "nbformat_minor": 2
}
